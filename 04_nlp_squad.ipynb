{
 "cells": [
  {
   "cell_type": "code",
   "execution_count": 2,
   "metadata": {},
   "outputs": [],
   "source": [
    "import itertools\n",
    "import os\n",
    "import re\n",
    "import sys\n",
    "import warnings\n",
    "from pathlib import Path\n",
    "\n",
    "from transformers import AutoModelForQuestionAnswering, AutoTokenizer, pipeline"
   ]
  },
  {
   "cell_type": "code",
   "execution_count": 3,
   "metadata": {},
   "outputs": [],
   "source": [
    "warnings.simplefilter(action=\"ignore\", category=FutureWarning)"
   ]
  },
  {
   "cell_type": "code",
   "execution_count": 4,
   "metadata": {},
   "outputs": [],
   "source": [
    "question_answer = pipeline(\n",
    "    \"question-answering\",\n",
    "    model=\"henryk/bert-base-multilingual-cased-finetuned-dutch-squad2\",\n",
    "    tokenizer=\"henryk/bert-base-multilingual-cased-finetuned-dutch-squad2\",\n",
    ")"
   ]
  },
  {
   "cell_type": "code",
   "execution_count": 5,
   "metadata": {},
   "outputs": [
    {
     "name": "stdout",
     "output_type": "stream",
     "text": [
      "\n",
      "Malacologen hebben nabij de Eyserbeek in Zuid-Limburg een landslak ontdekt die eerder niet in Nederland voorkwam. Het dier ziet eruit als een naaktslak, maar draagt ook een klein slakkenhuis waar het bij lange na niet in past. Volgens onderzoekers gaat het om de Daudebardia rufa.\n",
      "De slak werd twee weken geleden voor het eerst in Nederland aangetroffen. Malacologen hebben een week later een excursie gehouden, waarbij het dier op meerdere plaatsen opnieuw werd aangetroffen. Op basis daarvan stellen zoölogen dat Nederland een slakkensoort rijker is.\n",
      "De aangetroffen slakken waren 15 tot 20 millimeter lang, terwijl hun slakkenhuis zo'n 5 millimeter groot was. Het dier jaagt ondergronds op kleinere slakken, regenwormen en insectenlarven. De prooien worden inwendig verteerd.\n",
      "Aanvankelijk hadden onderzoekers geen idee welke slakkensoort was aangetroffen, maar met behulp van een internetforum voor zoölogen werd vastgesteld dat het om de deels ondergronds levende slak gaat, die ook in landen als Duitsland, Zwitserland en Oostenrijk voorkomt.\n",
      "Desondanks hadden experts niet verwacht de slak aan te treffen in Nederland. \"Hoe dat heeft kunnen gebeuren, blijft giswerk\", schrijft Stichting ANEMOON, een organisatie die onder meer land- en zoetwaterweekdieren onderzoekt, in Nature Today.\n",
      "Volgens de experts ligt de Eyserbeek namelijk ver van het bekende verspreidingsgebied van de slak, dat meer in de buurt van Midden-Europa ligt. Mogelijk is het dier op een steen gekropen die gebruikt werd bij de aanleg van het talud voor de toeristische treinroute Miljoenenlijn in Limburg.\n",
      "\"Het is prettig om te kunnen melden dat het nu eens niet gaat om een exoot of een uit warmere, zuidelijke streken afkomstige 'klimaatopschuiver'\", aldus onderzoekers in Nature Today.\n",
      "\n"
     ]
    }
   ],
   "source": [
    "tekst = \"\"\"\n",
    "Malacologen hebben nabij de Eyserbeek in Zuid-Limburg een landslak ontdekt die eerder niet in Nederland voorkwam. Het dier ziet eruit als een naaktslak, maar draagt ook een klein slakkenhuis waar het bij lange na niet in past. Volgens onderzoekers gaat het om de Daudebardia rufa.\n",
    "De slak werd twee weken geleden voor het eerst in Nederland aangetroffen. Malacologen hebben een week later een excursie gehouden, waarbij het dier op meerdere plaatsen opnieuw werd aangetroffen. Op basis daarvan stellen zoölogen dat Nederland een slakkensoort rijker is.\n",
    "De aangetroffen slakken waren 15 tot 20 millimeter lang, terwijl hun slakkenhuis zo'n 5 millimeter groot was. Het dier jaagt ondergronds op kleinere slakken, regenwormen en insectenlarven. De prooien worden inwendig verteerd.\n",
    "Aanvankelijk hadden onderzoekers geen idee welke slakkensoort was aangetroffen, maar met behulp van een internetforum voor zoölogen werd vastgesteld dat het om de deels ondergronds levende slak gaat, die ook in landen als Duitsland, Zwitserland en Oostenrijk voorkomt.\n",
    "Desondanks hadden experts niet verwacht de slak aan te treffen in Nederland. \"Hoe dat heeft kunnen gebeuren, blijft giswerk\", schrijft Stichting ANEMOON, een organisatie die onder meer land- en zoetwaterweekdieren onderzoekt, in Nature Today.\n",
    "Volgens de experts ligt de Eyserbeek namelijk ver van het bekende verspreidingsgebied van de slak, dat meer in de buurt van Midden-Europa ligt. Mogelijk is het dier op een steen gekropen die gebruikt werd bij de aanleg van het talud voor de toeristische treinroute Miljoenenlijn in Limburg.\n",
    "\"Het is prettig om te kunnen melden dat het nu eens niet gaat om een exoot of een uit warmere, zuidelijke streken afkomstige 'klimaatopschuiver'\", aldus onderzoekers in Nature Today.\n",
    "\"\"\"\n",
    "print(tekst)"
   ]
  },
  {
   "cell_type": "code",
   "execution_count": 6,
   "metadata": {},
   "outputs": [
    {
     "name": "stdout",
     "output_type": "stream",
     "text": [
      "15 tot 20 millimeter\n"
     ]
    }
   ],
   "source": [
    "result = question_answer(\n",
    "    {\n",
    "        \"context\": tekst,\n",
    "        \"question\": \"Hoe lang is de slak?\",\n",
    "    }\n",
    ")\n",
    "print(result.get(\"answer\"))"
   ]
  },
  {
   "cell_type": "code",
   "execution_count": 7,
   "metadata": {},
   "outputs": [
    {
     "name": "stdout",
     "output_type": "stream",
     "text": [
      "een organisatie die onder meer land- en zoetwaterweekdieren onderzoekt,\n"
     ]
    }
   ],
   "source": [
    "result = question_answer(\n",
    "    {\n",
    "        \"context\": tekst,\n",
    "        \"question\": \"Wat is de Stichting ANEMOON?\",\n",
    "    }\n",
    ")\n",
    "print(result.get(\"answer\"))"
   ]
  },
  {
   "cell_type": "code",
   "execution_count": 8,
   "metadata": {},
   "outputs": [
    {
     "name": "stdout",
     "output_type": "stream",
     "text": [
      "landen als Duitsland, Zwitserland en Oostenrijk\n"
     ]
    }
   ],
   "source": [
    "result = question_answer(\n",
    "    {\n",
    "        \"context\": tekst,\n",
    "        \"question\": \"Waar komt de slak voor?\",\n",
    "    }\n",
    ")\n",
    "print(result.get(\"answer\"))"
   ]
  },
  {
   "cell_type": "code",
   "execution_count": null,
   "metadata": {},
   "outputs": [],
   "source": []
  }
 ],
 "metadata": {
  "kernelspec": {
   "display_name": "Python 3.7.6 64-bit ('data_analysis': conda)",
   "language": "python",
   "name": "python37664bitdataanalysiscondacce908f3aabe4aebaa394ee74a95f30b"
  },
  "language_info": {
   "codemirror_mode": {
    "name": "ipython",
    "version": 3
   },
   "file_extension": ".py",
   "mimetype": "text/x-python",
   "name": "python",
   "nbconvert_exporter": "python",
   "pygments_lexer": "ipython3",
   "version": "3.7.8"
  },
  "toc-autonumbering": false,
  "toc-showmarkdowntxt": false,
  "toc-showtags": false
 },
 "nbformat": 4,
 "nbformat_minor": 4
}
